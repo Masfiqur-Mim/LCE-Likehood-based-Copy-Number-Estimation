{
  "nbformat": 4,
  "nbformat_minor": 0,
  "metadata": {
    "colab": {
      "name": "Segmentation Dual sequencing.ipynb",
      "provenance": [],
      "authorship_tag": "ABX9TyPHY7EXtlxsZ5KxDX8Bymus",
      "include_colab_link": true
    },
    "kernelspec": {
      "name": "python3",
      "display_name": "Python 3"
    }
  },
  "cells": [
    {
      "cell_type": "markdown",
      "metadata": {
        "id": "view-in-github",
        "colab_type": "text"
      },
      "source": [
        "<a href=\"https://colab.research.google.com/github/Masfiqur-Mim/LCE-Likehood-based-Copy-Number-Estimation/blob/master/Segmentation_Dual_sequencing.ipynb\" target=\"_parent\"><img src=\"https://colab.research.google.com/assets/colab-badge.svg\" alt=\"Open In Colab\"/></a>"
      ]
    },
    {
      "cell_type": "markdown",
      "metadata": {
        "id": "QMU3Rhts-npB",
        "colab_type": "text"
      },
      "source": [
        "#INPUT: Two reads per position file (Reference and Test)\n",
        "#OUTPUT: Reads Ratio Distribution files with segmentation done over it"
      ]
    },
    {
      "cell_type": "code",
      "metadata": {
        "id": "PJeTEmCr3vpy",
        "colab_type": "code",
        "colab": {}
      },
      "source": [
        "from google.colab import drive\n",
        "drive.mount('/content/drive')"
      ],
      "execution_count": 0,
      "outputs": []
    },
    {
      "cell_type": "markdown",
      "metadata": {
        "id": "qBjolY2R4Ctd",
        "colab_type": "text"
      },
      "source": [
        "###Assuming that two reads per position of genome file are generated"
      ]
    },
    {
      "cell_type": "code",
      "metadata": {
        "id": "I6QSiGIx4C7N",
        "colab_type": "code",
        "colab": {}
      },
      "source": [
        "import csv\n",
        "import statistics as ss\n",
        "window_size = 500\n",
        "reference_file_location = ''\n",
        "test_file_location = ''\n",
        "#The test reads per position are to be divided by reference reads per position and to be written in model file\n",
        "out_file_location = ''\n",
        "#the normalized distribution's mean and std are saved in model file\n",
        "model_file_location = ''\n",
        "\n",
        "reference = open(reference_file_location, 'r')\n",
        "test = open(test_file_location, 'r')\n",
        "out = open(out_file_location, 'w')\n",
        "model = open(model_file_location, 'w')\n",
        "\n",
        "ref_file_readspp = csv.reader(reference, delimeter= ' ') \n",
        "test_file_readspp = csv.reader(test, delimeter= ' ')\n",
        "reference_genome_size = len(ref_file_readspp) #This will be used while calculating number of windows for initial segmentation\n",
        "if( len(ref_file_readspp) != len(test_file_readspp) ):\n",
        "  print(\"Genome size mismatch!\")\n",
        "\n",
        "\n",
        "out_val = []\n",
        "for val_ref, val_test in ref_file_readspp, test_file_readspp:\n",
        "  if(int(val_ref[1] !=0):\n",
        "    out_val.append(int(val_test[1]) / int(val_ref[1]))\n",
        "  else:\n",
        "    out_val.append(int(val_test[1])/1)\n",
        "\n",
        "out.write(\"%f\\n\" % (out_val[i])) for i in range len(out_val)\n",
        "  \n",
        "\n"
      ],
      "execution_count": 0,
      "outputs": []
    },
    {
      "cell_type": "code",
      "metadata": {
        "id": "DRG_g9oa84uy",
        "colab_type": "code",
        "colab": {}
      },
      "source": [
        "window_reads_ratio_mean = []\n",
        "window_reads_ratio_std = []\n",
        "start_window_pos = []\n",
        "num_windows = int(reference_genome_size/window_size)\n",
        "start_window_pos.append(i*window_size) for i in range (num_windows)\n",
        "#if( (reference_genome_size- num_windows*window_size) > 0):\n",
        "#  start_window_pos.append(num_windows*window_size)\n",
        "mean_val = 0\n",
        "std_val = 0\n",
        "last_window_size = reference_genome_size- num_windows*window_size\n",
        "for i in range len(num_windows):\n",
        "  if(num_windows-i==1): #The last window. So it may not be the same size of window_size\n",
        "    mean_val = sum(out_val[i*window_size:i+last_window_size]) / last_window_size\n",
        "    std_val = ss.pstdev(out_val[i*window_size:reference_genome_size]) \n",
        "  else:#general situation\n",
        "    mean_val = sum(out_val[i*window_size:(i+1)*window_size]) / window_size\n",
        "    std_val = ss.pstdev(out_val[i*window_size:(i+1)*window_size]) #pstdev is for actual standard deviation. stdev is for sample standard deviation\n",
        "  \n",
        "  window_reads_ratio_mean.append(mean_val)\n",
        "  window_reads_ratio_std.append(std_val)"
      ],
      "execution_count": 0,
      "outputs": []
    },
    {
      "cell_type": "markdown",
      "metadata": {
        "id": "tGKflTIgGkHw",
        "colab_type": "text"
      },
      "source": [
        "##Segmentation Starts"
      ]
    },
    {
      "cell_type": "markdown",
      "metadata": {
        "id": "_Fuc4lcfaAmq",
        "colab_type": "text"
      },
      "source": [
        "###Window merging function"
      ]
    },
    {
      "cell_type": "code",
      "metadata": {
        "id": "JFwPj3LMiLt7",
        "colab_type": "code",
        "colab": {}
      },
      "source": [
        "def merge_windows(mean_list, stdev_list, left_index, start_window):\n",
        "  n1 = start_window[left_index+1]-start_window[left_index]\n",
        "  n2 = start_window[left_index+2]-start_window[left_index+1]\n",
        "  x1 = mean_list[left_index]\n",
        "  x2 = mean_list[left_index+1] \n",
        "  s1 = stdev_list[left_index]\n",
        "  s2 = stdev_list[left_index+1]\n",
        "  \n",
        "  updated_mean = (x1*n1+x2*n2)/(n1+n2)\n",
        "  \n",
        "  d1 = x1 - updated_mean\n",
        "  d2 = x2 - updated_mean\n",
        "\n",
        "  numerator = n1*(s1*s1+d1*d1)+n2*(s2*s2+d2*d2)\n",
        "  denominator = (n1+n2)\n",
        "  updated_stdev = numerator/denominator\n",
        "\n",
        "  mean_list[left_index] = updated_mean\n",
        "  stdev_list[left_index] = updated_stdev\n",
        "\n",
        "  #pop() takes the index as input and removes that item efficiently along with updating the list\n",
        "  mean_list.pop(left_index+1)\n",
        "  stdev_list.pop(left_index+1)"
      ],
      "execution_count": 0,
      "outputs": []
    },
    {
      "cell_type": "markdown",
      "metadata": {
        "id": "s4QJeuhebxHM",
        "colab_type": "text"
      },
      "source": [
        "###Merge on thresholds"
      ]
    },
    {
      "cell_type": "code",
      "metadata": {
        "id": "WehW-ymZGjxq",
        "colab_type": "code",
        "colab": {}
      },
      "source": [
        "while(p<len(window_reads_mean)):\n",
        "  if(window_reads_mean[p]+window_reads_std[p]*3 > window_reads_mean[p+1] and window_reads_mean[p]-window_reads_std[p]*3 < window_reads_mean[p+1]):\n",
        "    merge_windows(window_reads_mean, window_reads_std, p, start_window)\n",
        "  elif(window_reads_mean[p+1]+window_reads_std[p+1]*3 > window_reads_mean[p] and window_reads_mean[p+1]-window_reads_std[p+1]*3 < window_reads_mean[p]):\n",
        "    merge_windows(window_reads_mean, window_reads_std, p, start_window)\n",
        "  else:\n",
        "    p+=1"
      ],
      "execution_count": 0,
      "outputs": []
    }
  ]
}